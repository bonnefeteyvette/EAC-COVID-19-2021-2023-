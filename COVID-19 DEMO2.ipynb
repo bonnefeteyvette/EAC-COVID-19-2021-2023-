{
 "cells": [
  {
   "cell_type": "code",
   "execution_count": 2,
   "id": "eb222f96-85d6-4284-a1fa-2d2e1055ada1",
   "metadata": {},
   "outputs": [],
   "source": [
    "import requests\n",
    "import pandas as pd\n",
    "import matplotlib.pyplot as plt\n",
    "import seaborn as sns\n",
    "import json\n",
    "import csv\n",
    "from datetime import datetime, timezone"
   ]
  },
  {
   "cell_type": "code",
   "execution_count": 4,
   "id": "b8c2bd21-6cd7-4168-9847-df924b036028",
   "metadata": {},
   "outputs": [
    {
     "name": "stdout",
     "output_type": "stream",
     "text": [
      "           date   cases  deaths  recovered country\n",
      "0    2021-01-01    8460      94       6598  Rwanda\n",
      "1    2021-01-02    8567      98       6685  Rwanda\n",
      "2    2021-01-03    8676     101       6752  Rwanda\n",
      "3    2021-01-04    8848     105       6816  Rwanda\n",
      "4    2021-01-05    8955     110       6878  Rwanda\n",
      "...         ...     ...     ...        ...     ...\n",
      "3985 2023-03-05  170504    3630          0  Uganda\n",
      "3986 2023-03-06  170504    3630          0  Uganda\n",
      "3987 2023-03-07  170504    3630          0  Uganda\n",
      "3988 2023-03-08  170544    3630          0  Uganda\n",
      "3989 2023-03-09  170544    3630          0  Uganda\n",
      "\n",
      "[3990 rows x 5 columns]\n"
     ]
    }
   ],
   "source": [
    "# List of countries\n",
    "countries = ['rwanda', 'burundi', 'tanzania', 'kenya', 'uganda']\n",
    "\n",
    "# Store each country's data\n",
    "all_data = []\n",
    "\n",
    "for country in countries:\n",
    "    url = f'https://disease.sh/v3/covid-19/historical/{country}?lastdays=all'\n",
    "    response = requests.get(url).json()\n",
    "    timeline = response['timeline']\n",
    "\n",
    "# Creation DataFrame for each metric\n",
    "    df = pd.DataFrame({\n",
    "        'date': timeline['cases'].keys(),\n",
    "        'cases': timeline['cases'].values(),\n",
    "        'deaths': timeline['deaths'].values(),\n",
    "        'recovered': timeline['recovered'].values()\n",
    "    })\n",
    "\n",
    "    df['country'] = country.capitalize()\n",
    "    df['date'] = pd.to_datetime(df['date'], format='%m/%d/%y')\n",
    "    df = df[(df['date'].dt.year >= 2021) & (df['date'].dt.year <= 2023)]\n",
    "\n",
    "    all_data.append(df)\n",
    "\n",
    "# Combination of all countries DataFrame\n",
    "combined_df = pd.concat(all_data, ignore_index=True)\n",
    "# Saving to CSV\n",
    "combined_df.to_csv(\"covid_east_africa_2021_2023.csv\", index=False)\n",
    "print(combined_df)\n"
   ]
  },
  {
   "cell_type": "code",
   "execution_count": 10,
   "id": "8817092a-ea3f-4004-b630-42cbe279e38a",
   "metadata": {},
   "outputs": [
    {
     "data": {
      "text/html": [
       "<div>\n",
       "<style scoped>\n",
       "    .dataframe tbody tr th:only-of-type {\n",
       "        vertical-align: middle;\n",
       "    }\n",
       "\n",
       "    .dataframe tbody tr th {\n",
       "        vertical-align: top;\n",
       "    }\n",
       "\n",
       "    .dataframe thead th {\n",
       "        text-align: right;\n",
       "    }\n",
       "</style>\n",
       "<table border=\"1\" class=\"dataframe\">\n",
       "  <thead>\n",
       "    <tr style=\"text-align: right;\">\n",
       "      <th></th>\n",
       "      <th>date</th>\n",
       "      <th>cases</th>\n",
       "      <th>deaths</th>\n",
       "      <th>recovered</th>\n",
       "    </tr>\n",
       "  </thead>\n",
       "  <tbody>\n",
       "    <tr>\n",
       "      <th>count</th>\n",
       "      <td>3990</td>\n",
       "      <td>3990.000000</td>\n",
       "      <td>3990.000000</td>\n",
       "      <td>3990.000000</td>\n",
       "    </tr>\n",
       "    <tr>\n",
       "      <th>mean</th>\n",
       "      <td>2022-02-03 12:00:00</td>\n",
       "      <td>108523.621554</td>\n",
       "      <td>1826.669173</td>\n",
       "      <td>9195.459649</td>\n",
       "    </tr>\n",
       "    <tr>\n",
       "      <th>min</th>\n",
       "      <td>2021-01-01 00:00:00</td>\n",
       "      <td>509.000000</td>\n",
       "      <td>2.000000</td>\n",
       "      <td>0.000000</td>\n",
       "    </tr>\n",
       "    <tr>\n",
       "      <th>25%</th>\n",
       "      <td>2021-07-19 00:00:00</td>\n",
       "      <td>33801.500000</td>\n",
       "      <td>38.000000</td>\n",
       "      <td>0.000000</td>\n",
       "    </tr>\n",
       "    <tr>\n",
       "      <th>50%</th>\n",
       "      <td>2022-02-03 12:00:00</td>\n",
       "      <td>77679.500000</td>\n",
       "      <td>907.000000</td>\n",
       "      <td>0.000000</td>\n",
       "    </tr>\n",
       "    <tr>\n",
       "      <th>75%</th>\n",
       "      <td>2022-08-22 00:00:00</td>\n",
       "      <td>164021.000000</td>\n",
       "      <td>3585.000000</td>\n",
       "      <td>183.000000</td>\n",
       "    </tr>\n",
       "    <tr>\n",
       "      <th>max</th>\n",
       "      <td>2023-03-09 00:00:00</td>\n",
       "      <td>342937.000000</td>\n",
       "      <td>5688.000000</td>\n",
       "      <td>191188.000000</td>\n",
       "    </tr>\n",
       "    <tr>\n",
       "      <th>std</th>\n",
       "      <td>NaN</td>\n",
       "      <td>100965.768022</td>\n",
       "      <td>1927.356734</td>\n",
       "      <td>27488.468744</td>\n",
       "    </tr>\n",
       "  </tbody>\n",
       "</table>\n",
       "</div>"
      ],
      "text/plain": [
       "                      date          cases       deaths      recovered\n",
       "count                 3990    3990.000000  3990.000000    3990.000000\n",
       "mean   2022-02-03 12:00:00  108523.621554  1826.669173    9195.459649\n",
       "min    2021-01-01 00:00:00     509.000000     2.000000       0.000000\n",
       "25%    2021-07-19 00:00:00   33801.500000    38.000000       0.000000\n",
       "50%    2022-02-03 12:00:00   77679.500000   907.000000       0.000000\n",
       "75%    2022-08-22 00:00:00  164021.000000  3585.000000     183.000000\n",
       "max    2023-03-09 00:00:00  342937.000000  5688.000000  191188.000000\n",
       "std                    NaN  100965.768022  1927.356734   27488.468744"
      ]
     },
     "execution_count": 10,
     "metadata": {},
     "output_type": "execute_result"
    }
   ],
   "source": [
    "combined_df.describe()"
   ]
  },
  {
   "cell_type": "code",
   "execution_count": null,
   "id": "b91f27be-fc06-45e5-9bab-3e12061bf645",
   "metadata": {},
   "outputs": [],
   "source": []
  }
 ],
 "metadata": {
  "kernelspec": {
   "display_name": "Python 3 (ipykernel)",
   "language": "python",
   "name": "python3"
  },
  "language_info": {
   "codemirror_mode": {
    "name": "ipython",
    "version": 3
   },
   "file_extension": ".py",
   "mimetype": "text/x-python",
   "name": "python",
   "nbconvert_exporter": "python",
   "pygments_lexer": "ipython3",
   "version": "3.11.7"
  },
  "widgets": {
   "application/vnd.jupyter.widget-state+json": {
    "state": {},
    "version_major": 2,
    "version_minor": 0
   }
  }
 },
 "nbformat": 4,
 "nbformat_minor": 5
}
